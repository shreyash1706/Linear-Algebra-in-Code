{
  "nbformat": 4,
  "nbformat_minor": 0,
  "metadata": {
    "colab": {
      "provenance": [],
      "authorship_tag": "ABX9TyMEQfLmc/RxJQEy3VvcKoUo",
      "include_colab_link": true
    },
    "kernelspec": {
      "name": "python3",
      "display_name": "Python 3"
    },
    "language_info": {
      "name": "python"
    }
  },
  "cells": [
    {
      "cell_type": "markdown",
      "metadata": {
        "id": "view-in-github",
        "colab_type": "text"
      },
      "source": [
        "<a href=\"https://colab.research.google.com/github/shreyash1706/Linear-Algebra-in-Code/blob/main/Lin_Alg_1_From_Scalers_to_Spaces.ipynb\" target=\"_parent\"><img src=\"https://colab.research.google.com/assets/colab-badge.svg\" alt=\"Open In Colab\"/></a>"
      ]
    },
    {
      "cell_type": "markdown",
      "source": [
        "This is the first blog on the series:\n",
        "\n",
        ">  `Linear Algebra for ML codified`"
      ],
      "metadata": {
        "id": "2ic3C7-9PId6"
      }
    },
    {
      "cell_type": "markdown",
      "source": [
        "Index"
      ],
      "metadata": {
        "id": "TGksAgmfQXHg"
      }
    },
    {
      "cell_type": "code",
      "execution_count": null,
      "metadata": {
        "id": "Ii2rzSqBy-1c"
      },
      "outputs": [],
      "source": [
        "import torch\n",
        "import numpy as np\n",
        "import sympy as sp"
      ]
    },
    {
      "cell_type": "markdown",
      "source": [
        "#`Scalars`\n",
        "\n",
        "Scalars are simple numbers or values in contrast to the array of multiple numbers.\n",
        "\n",
        "Scalars can be known constants or unknown variables but both of them have a single value."
      ],
      "metadata": {
        "id": "w4g28chZgYvQ"
      }
    },
    {
      "cell_type": "code",
      "source": [
        "scalar = torch.tensor(1.0)\n",
        "scalar"
      ],
      "metadata": {
        "colab": {
          "base_uri": "https://localhost:8080/"
        },
        "id": "TZEucHXnv9HU",
        "outputId": "7250c516-8d21-4535-cc94-d5463eae5c00"
      },
      "execution_count": null,
      "outputs": [
        {
          "output_type": "execute_result",
          "data": {
            "text/plain": [
              "tensor(1.)"
            ]
          },
          "metadata": {},
          "execution_count": 3
        }
      ]
    },
    {
      "cell_type": "markdown",
      "source": [
        "#`Vectors`\n",
        "\n",
        "In geometric terms vector is a object which has a **magnitude** and **direction** .\n",
        "\n",
        "In programming vector is usually a array of numbers.\n",
        "\n",
        "But both of these ideas are quite interchangeable.\n",
        "\n",
        "The properties of vectors are they can be added with each other and multiplied by scalars.\n",
        "\n",
        "$2*\\vec{a}+3*\\vec{b}=\\vec{c}$"
      ],
      "metadata": {
        "id": "K0MTR2OeiGa_"
      }
    },
    {
      "cell_type": "code",
      "source": [
        "vector = torch.arange(4)\n",
        "vector"
      ],
      "metadata": {
        "colab": {
          "base_uri": "https://localhost:8080/"
        },
        "id": "FAjYZcqlwDYL",
        "outputId": "79690aa4-6e58-4c65-afaa-9e16295e84c3"
      },
      "execution_count": null,
      "outputs": [
        {
          "output_type": "execute_result",
          "data": {
            "text/plain": [
              "tensor([0, 1, 2, 3])"
            ]
          },
          "metadata": {},
          "execution_count": 4
        }
      ]
    },
    {
      "cell_type": "markdown",
      "source": [
        "#`Matrices`\n",
        "\n",
        "Matrices are 2-D arrays and most of the tabular data in ML is going to be presented in this form.\n",
        "\n",
        "Think of them as linear transformation that converts the whole system into whole another form, we will discuss this more in the Matrix-Vector multiplication section"
      ],
      "metadata": {
        "id": "U9eJx5FgnAWI"
      }
    },
    {
      "cell_type": "code",
      "source": [
        "matrix = torch.arange(8).reshape((4,2))\n",
        "matrix"
      ],
      "metadata": {
        "colab": {
          "base_uri": "https://localhost:8080/"
        },
        "id": "11zUd8FIxMAu",
        "outputId": "d624508c-c3b3-439c-aa1c-68d310695fca"
      },
      "execution_count": null,
      "outputs": [
        {
          "output_type": "execute_result",
          "data": {
            "text/plain": [
              "tensor([[0, 1],\n",
              "        [2, 3],\n",
              "        [4, 5],\n",
              "        [6, 7]])"
            ]
          },
          "metadata": {},
          "execution_count": 5
        }
      ]
    },
    {
      "cell_type": "markdown",
      "source": [
        "#`Tensors`\n",
        "\n",
        "These are N-Dimensional array, which can have more than 2 axes.\n",
        "\n",
        "These are highly useful in deep learning."
      ],
      "metadata": {
        "id": "voQ9bsA6vVgX"
      }
    },
    {
      "cell_type": "code",
      "source": [
        "tensor = torch.arange(12).reshape((2,3,2))\n",
        "tensor"
      ],
      "metadata": {
        "colab": {
          "base_uri": "https://localhost:8080/"
        },
        "id": "7HBRZV4gx10E",
        "outputId": "61a6c965-fe94-4463-eb30-5101829c6256"
      },
      "execution_count": null,
      "outputs": [
        {
          "output_type": "execute_result",
          "data": {
            "text/plain": [
              "tensor([[[ 0,  1],\n",
              "         [ 2,  3],\n",
              "         [ 4,  5]],\n",
              "\n",
              "        [[ 6,  7],\n",
              "         [ 8,  9],\n",
              "         [10, 11]]])"
            ]
          },
          "metadata": {},
          "execution_count": 6
        }
      ]
    },
    {
      "cell_type": "markdown",
      "source": [
        "#`Basic Matrix Operations`"
      ],
      "metadata": {
        "id": "HfH1fEYvSDQX"
      }
    },
    {
      "cell_type": "markdown",
      "source": [
        "Matrix Addition: This is a elementwise addition of all the elements of the"
      ],
      "metadata": {
        "id": "ymDmhv1HSv5B"
      }
    },
    {
      "cell_type": "code",
      "source": [
        "A = torch.arange(6).reshape((3,2))\n",
        "\n",
        "\n",
        "display(sp.Matrix(A))\n",
        "\n",
        "\n",
        "#this is the element wise sum of matrices\n",
        "display(sp.Matrix(A+A))"
      ],
      "metadata": {
        "colab": {
          "base_uri": "https://localhost:8080/",
          "height": 139
        },
        "id": "bZn40atpSncJ",
        "outputId": "f0b26196-e587-4464-ccdc-8bab620ec41d"
      },
      "execution_count": null,
      "outputs": [
        {
          "output_type": "display_data",
          "data": {
            "text/plain": [
              "Matrix([\n",
              "[0, 1],\n",
              "[2, 3],\n",
              "[4, 5]])"
            ],
            "text/latex": "$\\displaystyle \\left[\\begin{matrix}0 & 1\\\\2 & 3\\\\4 & 5\\end{matrix}\\right]$"
          },
          "metadata": {}
        },
        {
          "output_type": "display_data",
          "data": {
            "text/plain": [
              "Matrix([\n",
              "[0,  2],\n",
              "[4,  6],\n",
              "[8, 10]])"
            ],
            "text/latex": "$\\displaystyle \\left[\\begin{matrix}0 & 2\\\\4 & 6\\\\8 & 10\\end{matrix}\\right]$"
          },
          "metadata": {}
        }
      ]
    },
    {
      "cell_type": "markdown",
      "source": [
        "Matrix Multiplication: The neccesary condition for the matrices to be multiplied it is,\n",
        "\n",
        "$A_{mxn} * B_{nxk} = C_{mxk}$ ; The column size of A and row size of B must match.\n",
        "\n",
        "Similiar to the elementwise addition , elementwise multiplication also exists and is called hadamard product; $A⊙B$"
      ],
      "metadata": {
        "id": "P6vTayq3TzdU"
      }
    },
    {
      "cell_type": "code",
      "source": [
        "#matrix multiplication\n",
        "A = torch.arange(6).reshape((3,2))\n",
        "B = torch.arange(6).reshape((2,3))\n",
        "\n",
        "display(sp.Matrix(A))\n",
        "display(sp.Matrix(B))\n",
        "\n",
        "display(sp.Matrix(A@B))\n",
        "\n",
        "#in torch A@B is used or torch.mm(A,B)"
      ],
      "metadata": {
        "colab": {
          "base_uri": "https://localhost:8080/",
          "height": 180
        },
        "id": "0GJIIWIjV5rz",
        "outputId": "54bdd5c8-e990-420b-adcd-f4cf7e2e5df0"
      },
      "execution_count": null,
      "outputs": [
        {
          "output_type": "display_data",
          "data": {
            "text/plain": [
              "Matrix([\n",
              "[0, 1],\n",
              "[2, 3],\n",
              "[4, 5]])"
            ],
            "text/latex": "$\\displaystyle \\left[\\begin{matrix}0 & 1\\\\2 & 3\\\\4 & 5\\end{matrix}\\right]$"
          },
          "metadata": {}
        },
        {
          "output_type": "display_data",
          "data": {
            "text/plain": [
              "Matrix([\n",
              "[0, 1, 2],\n",
              "[3, 4, 5]])"
            ],
            "text/latex": "$\\displaystyle \\left[\\begin{matrix}0 & 1 & 2\\\\3 & 4 & 5\\end{matrix}\\right]$"
          },
          "metadata": {}
        },
        {
          "output_type": "display_data",
          "data": {
            "text/plain": [
              "Matrix([\n",
              "[ 3,  4,  5],\n",
              "[ 9, 14, 19],\n",
              "[15, 24, 33]])"
            ],
            "text/latex": "$\\displaystyle \\left[\\begin{matrix}3 & 4 & 5\\\\9 & 14 & 19\\\\15 & 24 & 33\\end{matrix}\\right]$"
          },
          "metadata": {}
        }
      ]
    },
    {
      "cell_type": "code",
      "source": [
        "#for hadamard product\n",
        "\n",
        "display(sp.Matrix(A*A))"
      ],
      "metadata": {
        "colab": {
          "base_uri": "https://localhost:8080/",
          "height": 78
        },
        "id": "pcX5LhoHV5vO",
        "outputId": "d5017e81-94c8-473c-a760-9eabf2b2491e"
      },
      "execution_count": null,
      "outputs": [
        {
          "output_type": "display_data",
          "data": {
            "text/plain": [
              "Matrix([\n",
              "[ 0,  1],\n",
              "[ 4,  9],\n",
              "[16, 25]])"
            ],
            "text/latex": "$\\displaystyle \\left[\\begin{matrix}0 & 1\\\\4 & 9\\\\16 & 25\\end{matrix}\\right]$"
          },
          "metadata": {}
        }
      ]
    },
    {
      "cell_type": "markdown",
      "source": [
        "Transpose is a operation where the columns are replaces by rows and vice versa"
      ],
      "metadata": {
        "id": "uhlQZB1ZX7O0"
      }
    },
    {
      "cell_type": "code",
      "source": [
        "display(sp.Matrix(A.T))"
      ],
      "metadata": {
        "colab": {
          "base_uri": "https://localhost:8080/",
          "height": 58
        },
        "id": "b6TNbcLQYC4U",
        "outputId": "485fa2f8-6957-4c8f-84b7-f8aa4208f3ad"
      },
      "execution_count": null,
      "outputs": [
        {
          "output_type": "display_data",
          "data": {
            "text/plain": [
              "Matrix([\n",
              "[0, 2, 4],\n",
              "[1, 3, 5]])"
            ],
            "text/latex": "$\\displaystyle \\left[\\begin{matrix}0 & 2 & 4\\\\1 & 3 & 5\\end{matrix}\\right]$"
          },
          "metadata": {}
        }
      ]
    },
    {
      "cell_type": "code",
      "source": [],
      "metadata": {
        "id": "9tjEokn3wYbd"
      },
      "execution_count": null,
      "outputs": []
    },
    {
      "cell_type": "markdown",
      "source": [
        "#`Matrix-Vector Multiplication`\n",
        "\n",
        "Intuition of Matrix Vector multiplication , I highly suggest checking out 3B1B's linear transformation video, where he visually demostrates how a linear transformation can be visualized\n",
        "\n",
        "Matrices can seen as linear transformation\n",
        "\n",
        "$A = \\begin{bmatrix} 2 & 5 \\\\ 1 & 3\\end{bmatrix}$\n",
        "\n",
        "Now the vector $\\begin{bmatrix} 2 \\\\ 1 \\end{bmatrix}$ is where the X basis vector or the vector $\\begin{bmatrix} 1 \\\\ 0 \\end{bmatrix}$ will land on this system transformed by $A$, similarly $\\begin{bmatrix} 5 \\\\ 3 \\end{bmatrix}$ is where the Y basis vector $\\begin{bmatrix} 0 \\\\ 1 \\end{bmatrix}$ will land.\n",
        "\n",
        "Now this creates the linear transformation system in a 2x2 space or a 2-D world and this matrix or this transformation can be used to convert any $\\begin{bmatrix} x \\\\ y \\end{bmatrix}$ to a transformed plane and see where it lands.\n",
        "\n",
        "Let's see where will the vector $\\begin{bmatrix} 1 \\\\ 2 \\end{bmatrix}$ lie after undergoing this transformation!"
      ],
      "metadata": {
        "id": "-7SuSRlq0Do3"
      }
    },
    {
      "cell_type": "code",
      "source": [
        "A = torch.tensor([[2,5],[1,3]])\n",
        "v = torch.tensor([1,2])\n",
        "\n",
        "display(sp.Matrix(A))\n",
        "display(sp.Matrix(v))\n",
        "\n",
        "display(sp.Matrix(A@v))"
      ],
      "metadata": {
        "colab": {
          "base_uri": "https://localhost:8080/",
          "height": 139
        },
        "id": "2VMnpStqYd0V",
        "outputId": "88b4c37c-ebb7-4cdb-fb57-d2b1a128d604"
      },
      "execution_count": null,
      "outputs": [
        {
          "output_type": "display_data",
          "data": {
            "text/plain": [
              "Matrix([\n",
              "[2, 5],\n",
              "[1, 3]])"
            ],
            "text/latex": "$\\displaystyle \\left[\\begin{matrix}2 & 5\\\\1 & 3\\end{matrix}\\right]$"
          },
          "metadata": {}
        },
        {
          "output_type": "display_data",
          "data": {
            "text/plain": [
              "Matrix([\n",
              "[1],\n",
              "[2]])"
            ],
            "text/latex": "$\\displaystyle \\left[\\begin{matrix}1\\\\2\\end{matrix}\\right]$"
          },
          "metadata": {}
        },
        {
          "output_type": "display_data",
          "data": {
            "text/plain": [
              "Matrix([\n",
              "[12],\n",
              "[ 7]])"
            ],
            "text/latex": "$\\displaystyle \\left[\\begin{matrix}12\\\\7\\end{matrix}\\right]$"
          },
          "metadata": {}
        }
      ]
    },
    {
      "cell_type": "markdown",
      "source": [
        "So we can see how the vector $\\begin{bmatrix} 1 \\\\ 2 \\end{bmatrix}$ got transformed to $\\begin{bmatrix} 12 \\\\ 7 \\end{bmatrix}$, another way of visualizing this is ->\n",
        "\n",
        "Imagine this matrix's X axis part $\\begin{bmatrix} \\textbf{2} & 5 \\\\ \\textbf{1} & 3\\end{bmatrix}$ be scaled by the X component of the vector V and the Y axis part $\\begin{bmatrix} 2 & \\textbf{5} \\\\ 1 & \\textbf{3}\\end{bmatrix}$ scaled by the Y component of vector V\n",
        "\n",
        "It would look like\n",
        "\n",
        "$ 1*\\begin{bmatrix} 2 \\\\ 1 \\end{bmatrix} + 2*\\begin{bmatrix} 5 \\\\ 3 \\end{bmatrix} = \\begin{bmatrix} 12 \\\\ 7 \\end{bmatrix}$\n"
      ],
      "metadata": {
        "id": "_Zq2CUcLYd29"
      }
    },
    {
      "cell_type": "markdown",
      "source": [
        "#`System of Linear Equation`\n",
        "\n",
        "When we have a bunch of equations they can be converted into matrix form"
      ],
      "metadata": {
        "id": "NoG8I5INv3PL"
      }
    },
    {
      "cell_type": "code",
      "source": [
        "x,y = sp.symbols('x y')"
      ],
      "metadata": {
        "id": "X4Yg4p4hv3Ri"
      },
      "execution_count": null,
      "outputs": []
    },
    {
      "cell_type": "code",
      "source": [
        "eq1 = sp.Eq(2*x + 1*y, 5)\n",
        "display(eq1)"
      ],
      "metadata": {
        "colab": {
          "base_uri": "https://localhost:8080/",
          "height": 39
        },
        "id": "0DjXMI-Vv3T8",
        "outputId": "20fae4b5-b492-414c-d9e8-b68539903959"
      },
      "execution_count": null,
      "outputs": [
        {
          "output_type": "display_data",
          "data": {
            "text/plain": [
              "Eq(2*x + y, 5)"
            ],
            "text/latex": "$\\displaystyle 2 x + y = 5$"
          },
          "metadata": {}
        }
      ]
    },
    {
      "cell_type": "code",
      "source": [
        "eq2 = sp.Eq(1*x -1*y,1)\n",
        "display(eq2)"
      ],
      "metadata": {
        "colab": {
          "base_uri": "https://localhost:8080/",
          "height": 39
        },
        "id": "8CCHM6ctv3ZB",
        "outputId": "dc02e2c3-a628-4c66-9410-39d9bbcfa4b9"
      },
      "execution_count": null,
      "outputs": [
        {
          "output_type": "display_data",
          "data": {
            "text/plain": [
              "Eq(x - y, 1)"
            ],
            "text/latex": "$\\displaystyle x - y = 1$"
          },
          "metadata": {}
        }
      ]
    },
    {
      "cell_type": "code",
      "source": [
        "#solving this system of equation\n",
        "sol = sp.solve((eq1,eq2),(x,y))\n",
        "\n",
        "print(\"solution: \",sol)"
      ],
      "metadata": {
        "colab": {
          "base_uri": "https://localhost:8080/"
        },
        "id": "yBP5YA4Ev3cE",
        "outputId": "cb0c448c-1298-4627-97b4-cb92fa6965d9"
      },
      "execution_count": null,
      "outputs": [
        {
          "output_type": "stream",
          "name": "stdout",
          "text": [
            "solution:  {x: 2, y: 1}\n"
          ]
        }
      ]
    },
    {
      "cell_type": "markdown",
      "source": [
        "These equation were solved using subsitution\n",
        "\n",
        "Now we convert this system of equation into matrix form"
      ],
      "metadata": {
        "id": "YYvApwTTybr6"
      }
    },
    {
      "cell_type": "code",
      "source": [
        "A = sp.Matrix([[2,1],\n",
        "          [1,-1]])\n",
        "b = sp.Matrix([5,1])\n",
        "\n",
        "print(\"Matrix A:\")\n",
        "display(A)\n",
        "print(\"Vector b:\")\n",
        "display(b)"
      ],
      "metadata": {
        "colab": {
          "base_uri": "https://localhost:8080/",
          "height": 133
        },
        "id": "fsWrnH5UybuP",
        "outputId": "684de979-51ae-4cd6-d2e2-1bac72291885"
      },
      "execution_count": null,
      "outputs": [
        {
          "output_type": "stream",
          "name": "stdout",
          "text": [
            "Matrix A:\n"
          ]
        },
        {
          "output_type": "display_data",
          "data": {
            "text/plain": [
              "Matrix([\n",
              "[2,  1],\n",
              "[1, -1]])"
            ],
            "text/latex": "$\\displaystyle \\left[\\begin{matrix}2 & 1\\\\1 & -1\\end{matrix}\\right]$"
          },
          "metadata": {}
        },
        {
          "output_type": "stream",
          "name": "stdout",
          "text": [
            "Vector b:\n"
          ]
        },
        {
          "output_type": "display_data",
          "data": {
            "text/plain": [
              "Matrix([\n",
              "[5],\n",
              "[1]])"
            ],
            "text/latex": "$\\displaystyle \\left[\\begin{matrix}5\\\\1\\end{matrix}\\right]$"
          },
          "metadata": {}
        }
      ]
    },
    {
      "cell_type": "code",
      "source": [
        "# solve Ax=b in matrix form\n",
        "solution = A.LUsolve(b)\n",
        "print(\"Solution via Ax=b:\", solution)"
      ],
      "metadata": {
        "colab": {
          "base_uri": "https://localhost:8080/"
        },
        "id": "DvBiGHUDyb3r",
        "outputId": "2208a830-1e07-4014-bbc3-d363581ced88"
      },
      "execution_count": null,
      "outputs": [
        {
          "output_type": "stream",
          "name": "stdout",
          "text": [
            "Solution via Ax=b: Matrix([[2], [1]])\n"
          ]
        }
      ]
    },
    {
      "cell_type": "code",
      "source": [],
      "metadata": {
        "id": "_KAFv9g30DrW"
      },
      "execution_count": null,
      "outputs": []
    },
    {
      "cell_type": "code",
      "source": [],
      "metadata": {
        "id": "URKlVoVy0Dt-"
      },
      "execution_count": null,
      "outputs": []
    },
    {
      "cell_type": "code",
      "source": [],
      "metadata": {
        "id": "bkJN_sRU0DwT"
      },
      "execution_count": null,
      "outputs": []
    },
    {
      "cell_type": "code",
      "source": [],
      "metadata": {
        "id": "znYzBSjt0Dy-"
      },
      "execution_count": null,
      "outputs": []
    },
    {
      "cell_type": "code",
      "source": [],
      "metadata": {
        "id": "YXDNYGp90D1P"
      },
      "execution_count": null,
      "outputs": []
    },
    {
      "cell_type": "code",
      "source": [],
      "metadata": {
        "id": "RhUgnS5G0D3v"
      },
      "execution_count": null,
      "outputs": []
    },
    {
      "cell_type": "code",
      "source": [],
      "metadata": {
        "id": "PM-1erVn0D6N"
      },
      "execution_count": null,
      "outputs": []
    },
    {
      "cell_type": "code",
      "source": [],
      "metadata": {
        "id": "fEUisAl_0D8j"
      },
      "execution_count": null,
      "outputs": []
    },
    {
      "cell_type": "markdown",
      "source": [
        "Now how was this solved in matrix form and what is LU solve will be discuss in next sections."
      ],
      "metadata": {
        "id": "YbZoxLbzyb59"
      }
    },
    {
      "cell_type": "markdown",
      "source": [
        "#`Solving Ax=b using Gaussian Elimination`\n",
        "\n",
        "We will use the Reduced Row Echelon Form to solve this. (How the libararies do it!)"
      ],
      "metadata": {
        "id": "K7H1pqLXEqKp"
      }
    },
    {
      "cell_type": "code",
      "source": [
        "A = np.random.randint(1, 10, (3, 3))\n",
        "while np.linalg.det(A) == 0:  # regenerate if singular\n",
        "    A = np.random.randint(1, 10, (3, 3))\n",
        "\n",
        "# Random 3x1 vector\n",
        "b = np.random.randint(1, 10, (3, 1))\n",
        "\n",
        "print(\"A =\\n\", A)\n",
        "print(\"b =\\n\", b)"
      ],
      "metadata": {
        "colab": {
          "base_uri": "https://localhost:8080/"
        },
        "id": "Zbeq1xAjYkzH",
        "outputId": "e33cbf5e-a240-41dc-a456-0232cef873b1"
      },
      "execution_count": null,
      "outputs": [
        {
          "output_type": "stream",
          "name": "stdout",
          "text": [
            "A =\n",
            " [[3 9 3]\n",
            " [8 4 6]\n",
            " [4 5 2]]\n",
            "b =\n",
            " [[1]\n",
            " [4]\n",
            " [2]]\n"
          ]
        }
      ]
    },
    {
      "cell_type": "code",
      "source": [
        "#To Solve Ax=b\n",
        "\n",
        "def rref(A, b):\n"
      ],
      "metadata": {
        "id": "UBW7RHxYnbHn",
        "colab": {
          "base_uri": "https://localhost:8080/",
          "height": 106
        },
        "outputId": "618cbae1-7a8a-46f7-a080-56b2991a81c7"
      },
      "execution_count": null,
      "outputs": [
        {
          "output_type": "error",
          "ename": "SyntaxError",
          "evalue": "incomplete input (ipython-input-1915319521.py, line 3)",
          "traceback": [
            "\u001b[0;36m  File \u001b[0;32m\"/tmp/ipython-input-1915319521.py\"\u001b[0;36m, line \u001b[0;32m3\u001b[0m\n\u001b[0;31m    def rref(A, b):\u001b[0m\n\u001b[0m                   ^\u001b[0m\n\u001b[0;31mSyntaxError\u001b[0m\u001b[0;31m:\u001b[0m incomplete input\n"
          ]
        }
      ]
    },
    {
      "cell_type": "markdown",
      "source": [
        "#`Eigen Value and Eigen Vectors`\n",
        "\n",
        "These are surprisingly not just some terms to use for applications but have pretty interesting explanations\n",
        "\n",
        "$ A\\vec{v} = λ\\vec{v}$\n",
        "\n",
        "*λ is such a eigen value and $\\vec{v}$ is the corresponding eigen vector*\n",
        "\n",
        "$A$ is a linear transformation matrix and it usually relocates the vectors in\n",
        "$ℝ^n$ and knock them off from their span.\n",
        "\n",
        "But the eigen vectors are the special vectors whose orientation remains the same and the are just scaled by the scalar value of 'eigen value'.\n",
        "\n",
        "\n",
        "This seems a bit confusing because $A\\vec{v}$ is matrix vector multiplication and $λ\\vec{v}$ is scalar vector multiplication\n",
        "\n",
        "So to convert the scalar-vector mul into a matrix we multiple it by $I^n$ the identity matrix\n",
        "\n",
        "Let's see it in action"
      ],
      "metadata": {
        "id": "udc5vyoCYk2p"
      }
    },
    {
      "cell_type": "code",
      "source": [],
      "metadata": {
        "id": "7EeV-oUnaFZr"
      },
      "execution_count": null,
      "outputs": []
    }
  ]
}